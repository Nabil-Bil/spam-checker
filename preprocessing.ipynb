{
 "cells": [
  {
   "cell_type": "code",
   "execution_count": 76,
   "metadata": {
    "ExecuteTime": {
     "end_time": "2023-04-07T18:30:18.018668Z",
     "start_time": "2023-04-07T18:30:17.998803Z"
    },
    "collapsed": true
   },
   "outputs": [],
   "source": [
    "import pandas as pd\n",
    "import os\n",
    "from nltk.stem import PorterStemmer\n",
    "from nltk.tokenize import word_tokenize\n",
    "from nltk.corpus import stopwords\n",
    "import string\n",
    "import re\n",
    "from bs4 import BeautifulSoup\n",
    "from sklearn.utils import shuffle"
   ]
  },
  {
   "cell_type": "markdown",
   "metadata": {
    "collapsed": false
   },
   "source": [
    "<h1>Préparation des données (Preprocessing)</h1>"
   ]
  },
  {
   "cell_type": "markdown",
   "metadata": {
    "collapsed": false
   },
   "source": [
    "<h3>Lecture des mails depuis des fichiers<h3>"
   ]
  },
  {
   "cell_type": "code",
   "execution_count": 21,
   "metadata": {
    "ExecuteTime": {
     "end_time": "2023-04-07T18:30:18.030176Z",
     "start_time": "2023-04-07T18:30:18.018668Z"
    },
    "collapsed": false
   },
   "outputs": [
    {
     "data": {
      "text/plain": [
       "['easy_ham', 'hard_ham', 'spam']"
      ]
     },
     "execution_count": 21,
     "metadata": {},
     "output_type": "execute_result"
    }
   ],
   "source": [
    "path=\"./dataset\"\n",
    "directories=os.listdir(path)\n",
    "directories"
   ]
  },
  {
   "cell_type": "markdown",
   "metadata": {
    "collapsed": false
   },
   "source": [
    "<h2></h2>"
   ]
  },
  {
   "attachments": {},
   "cell_type": "markdown",
   "metadata": {},
   "source": [
    "<h2>Suppresion Des Balises HTML</h2>"
   ]
  },
  {
   "cell_type": "code",
   "execution_count": 22,
   "metadata": {},
   "outputs": [],
   "source": [
    "def remove_html(email : str)->str:\n",
    "    soup = BeautifulSoup(email, 'html.parser')\n",
    "    new_email = soup.get_text()\n",
    "    return new_email"
   ]
  },
  {
   "attachments": {},
   "cell_type": "markdown",
   "metadata": {},
   "source": [
    "<h2>Normalisation Des URLS</h2>"
   ]
  },
  {
   "cell_type": "code",
   "execution_count": 23,
   "metadata": {},
   "outputs": [],
   "source": [
    "def url_normalization(email : str)->str:\n",
    "    url_regex = r'(http[s]?://(?:[a-zA-Z]|[0-9]|[$-_@.&+]|[!*\\(\\),]|(?:%[0-9a-fA-F][0-9a-fA-F]))+)'\n",
    "    new_email = re.sub(url_regex, 'httpaddr', email)\n",
    "    return new_email"
   ]
  },
  {
   "attachments": {},
   "cell_type": "markdown",
   "metadata": {},
   "source": [
    "<h2>Normalisation Des Adresses Email</h2>"
   ]
  },
  {
   "cell_type": "code",
   "execution_count": 24,
   "metadata": {},
   "outputs": [],
   "source": [
    "def address_normalization(email, remplacement=\"emailaddr\"):\n",
    "    # Expression régulière pour détecter les adresses email\n",
    "    email_pattern = r'\\b[A-Za-z0-9._%+-]+@[A-Za-z0-9.-]+\\.[A-Z|a-z]{2,}\\b'\n",
    "\n",
    "    # Remplacement des adresses email par la chaîne de remplacement emailaddr\n",
    "    normalized_email = re.sub(email_pattern, remplacement, email)\n",
    "\n",
    "    return normalized_email"
   ]
  },
  {
   "attachments": {},
   "cell_type": "markdown",
   "metadata": {},
   "source": [
    "<h2>Normalisation Des Nombres</h2>"
   ]
  },
  {
   "cell_type": "code",
   "execution_count": 25,
   "metadata": {},
   "outputs": [],
   "source": [
    "def number_normalization(email, Remplacement=\"number\"):\n",
    "    # Expression régulière pour détecter les nombres\n",
    "    number_pattern = r'\\d+'\n",
    "\n",
    "    # Remplacement des nombres par la chaîne de remplacement\n",
    "    normalized_email = re.sub(number_pattern, Remplacement, email)\n",
    "\n",
    "    return normalized_email"
   ]
  },
  {
   "attachments": {},
   "cell_type": "markdown",
   "metadata": {},
   "source": [
    "<h2>Normalisation Des Dollars</h2>"
   ]
  },
  {
   "cell_type": "code",
   "execution_count": 26,
   "metadata": {},
   "outputs": [],
   "source": [
    "def dollars_normalization(email : str)->str:\n",
    "    email_contents = re.sub('[$]+', 'dollar', email)\n",
    "    return email_contents"
   ]
  },
  {
   "attachments": {},
   "cell_type": "markdown",
   "metadata": {},
   "source": [
    "<h2>Radicalisation Des Mots</h2>"
   ]
  },
  {
   "cell_type": "code",
   "execution_count": 27,
   "metadata": {},
   "outputs": [],
   "source": [
    "def word_stemming(email : str)->str:\n",
    "\n",
    "    ps = PorterStemmer()\n",
    "    words = word_tokenize(email)\n",
    "    t_email=\"\"\n",
    "    for w in words:\n",
    "        t_email+=ps.stem(w) + \" \"\n",
    "    return t_email.strip()\n",
    "    "
   ]
  },
  {
   "attachments": {},
   "cell_type": "markdown",
   "metadata": {},
   "source": [
    "<h2>Suppression Des Non-mots Et Ponctuation</h2>"
   ]
  },
  {
   "cell_type": "code",
   "execution_count": 28,
   "metadata": {},
   "outputs": [],
   "source": [
    "def non_word_cleaning(email : str)->str:\n",
    "    # Supprimer la ponctuation\n",
    "    email = email.translate(str.maketrans(\"\", \"\", string.punctuation))\n",
    "    # Supprimer les mots vides (stop words)\n",
    "    stop_words = set(stopwords.words('english'))\n",
    "    words = email.split()\n",
    "    words = [word for word in words if word not in stop_words]\n",
    "    email = ' '.join(words)\n",
    "    \n",
    "    return email"
   ]
  },
  {
   "cell_type": "code",
   "execution_count": 29,
   "metadata": {},
   "outputs": [],
   "source": [
    "def space_cleaning(email : str)->str:\n",
    "    lines=email.split(\"\\n\")\n",
    "    newlines=[' '.join(line.split()) for line in lines]\n",
    "    while '' in newlines:\n",
    "        newlines.remove('')\n",
    "    content=\"\"\n",
    "    for l in newlines:\n",
    "        content+=l.strip() + \" \"\n",
    "    \n",
    "    return content.strip()"
   ]
  },
  {
   "attachments": {},
   "cell_type": "markdown",
   "metadata": {},
   "source": [
    "<h2>Netoyage D'emails<h2>"
   ]
  },
  {
   "cell_type": "code",
   "execution_count": 30,
   "metadata": {},
   "outputs": [
    {
     "data": {
      "text/plain": [
       "'anyon know much cost host web portal well depend mani visitor your expect anywher less number buck month coupl dollarnumb checkout httpaddr perhap amazon ecnumb your run someth big unsubscrib mail list send email emailaddr'"
      ]
     },
     "execution_count": 30,
     "metadata": {},
     "output_type": "execute_result"
    }
   ],
   "source": [
    "def clean_email(email):\n",
    "    cleaned_email=email.lower()\n",
    "    cleaned_email=space_cleaning(cleaned_email)\n",
    "    cleaned_email=remove_html(cleaned_email)\n",
    "    cleaned_email=url_normalization(cleaned_email)\n",
    "    cleaned_email=address_normalization(cleaned_email)\n",
    "    cleaned_email=number_normalization(cleaned_email)\n",
    "    cleaned_email=dollars_normalization(cleaned_email)\n",
    "    cleaned_email=non_word_cleaning(cleaned_email)\n",
    "    cleaned_email=word_stemming(cleaned_email)\n",
    "    return cleaned_email\n",
    "\n",
    "#test\n",
    "\n",
    "test_email=\"\"\"\n",
    ">Anyone knows how much it costs to host a web portal ?\n",
    ">\n",
    "Well, it depends on how many visitors youre expecting. This can be anywhere from less than 10 bucks a month to a couple of $100. You should checkout http://www.rackspace.com/ or perhaps Amazon EC2 if youre running something big..\n",
    "\n",
    "\n",
    "To unsubscribe yourself from this mailing list, send an email to: groupname-unsubscribe@egroups.com\n",
    "\"\"\"\n",
    "clean_email(test_email)\n",
    "\n",
    "\n",
    "\n"
   ]
  },
  {
   "cell_type": "code",
   "execution_count": 41,
   "metadata": {
    "ExecuteTime": {
     "end_time": "2023-04-07T18:30:22.168513Z",
     "start_time": "2023-04-07T18:30:18.030176Z"
    },
    "collapsed": false
   },
   "outputs": [
    {
     "name": "stderr",
     "output_type": "stream",
     "text": [
      "100%|██████████| 6451/6451 [00:50<00:00, 127.91it/s]\n",
      "100%|██████████| 500/500 [00:14<00:00, 33.40it/s]\n",
      "100%|██████████| 2398/2398 [00:26<00:00, 89.67it/s] \n"
     ]
    }
   ],
   "source": [
    "import tqdm\n",
    "files={d:os.listdir(f\"{path}/{d}\") for d in directories}\n",
    "for k,v in files.items():\n",
    "    for i in tqdm.tqdm(range(len(v))):\n",
    "        with open(f\"{path}/{k}/{v[i]}\",'r',errors=\"ignore\") as f:\n",
    "            email=f.read()\n",
    "        cleaned_email=clean_email(email)\n",
    "        v[i]=cleaned_email"
   ]
  },
  {
   "cell_type": "markdown",
   "metadata": {
    "collapsed": false
   },
   "source": [
    "<h2>Exportation des emails en fichier CSV</h2>"
   ]
  },
  {
   "cell_type": "code",
   "execution_count": 74,
   "metadata": {
    "ExecuteTime": {
     "end_time": "2023-04-07T18:44:30.190844Z",
     "start_time": "2023-04-07T18:44:30.175201Z"
    },
    "collapsed": false
   },
   "outputs": [],
   "source": [
    "dataframes={\"easy_ham\":None,\"hard_ham\":None,'spam':None}\n",
    "for k in files:\n",
    "    dataframes[k]=pd.DataFrame(files[k],columns=['text'])\n",
    "    if k=='spam':\n",
    "        dataframes[k][1]=[1]*dataframes[k].shape[0]\n",
    "    else:\n",
    "        dataframes[k][1]=[0]*dataframes[k].shape[0]\n",
    "\n",
    "    dataframes[k][2]=[k]*dataframes[k].shape[0]"
   ]
  },
  {
   "cell_type": "code",
   "execution_count": 78,
   "metadata": {},
   "outputs": [
    {
     "data": {
      "text/html": [
       "<div>\n",
       "<style scoped>\n",
       "    .dataframe tbody tr th:only-of-type {\n",
       "        vertical-align: middle;\n",
       "    }\n",
       "\n",
       "    .dataframe tbody tr th {\n",
       "        vertical-align: top;\n",
       "    }\n",
       "\n",
       "    .dataframe thead th {\n",
       "        text-align: right;\n",
       "    }\n",
       "</style>\n",
       "<table border=\"1\" class=\"dataframe\">\n",
       "  <thead>\n",
       "    <tr style=\"text-align: right;\">\n",
       "      <th></th>\n",
       "      <th>text</th>\n",
       "      <th>label_num</th>\n",
       "      <th>label</th>\n",
       "    </tr>\n",
       "  </thead>\n",
       "  <tbody>\n",
       "    <tr>\n",
       "      <th>0</th>\n",
       "      <td>emailaddr thu aug number numbernumbernumb numb...</td>\n",
       "      <td>0</td>\n",
       "      <td>easy_ham</td>\n",
       "    </tr>\n",
       "    <tr>\n",
       "      <th>1</th>\n",
       "      <td>emailaddr mon sep number numbernumbernumb numb...</td>\n",
       "      <td>0</td>\n",
       "      <td>easy_ham</td>\n",
       "    </tr>\n",
       "    <tr>\n",
       "      <th>2</th>\n",
       "      <td>emailaddr wed sep number numbernumbernumb numb...</td>\n",
       "      <td>1</td>\n",
       "      <td>spam</td>\n",
       "    </tr>\n",
       "    <tr>\n",
       "      <th>3</th>\n",
       "      <td>emailaddr wed aug number numbernumbernumb numb...</td>\n",
       "      <td>0</td>\n",
       "      <td>easy_ham</td>\n",
       "    </tr>\n",
       "    <tr>\n",
       "      <th>4</th>\n",
       "      <td>emailaddr wed oct number numbernumbernumb numb...</td>\n",
       "      <td>0</td>\n",
       "      <td>easy_ham</td>\n",
       "    </tr>\n",
       "  </tbody>\n",
       "</table>\n",
       "</div>"
      ],
      "text/plain": [
       "                                                text  label_num     label\n",
       "0  emailaddr thu aug number numbernumbernumb numb...          0  easy_ham\n",
       "1  emailaddr mon sep number numbernumbernumb numb...          0  easy_ham\n",
       "2  emailaddr wed sep number numbernumbernumb numb...          1      spam\n",
       "3  emailaddr wed aug number numbernumbernumb numb...          0  easy_ham\n",
       "4  emailaddr wed oct number numbernumbernumb numb...          0  easy_ham"
      ]
     },
     "execution_count": 78,
     "metadata": {},
     "output_type": "execute_result"
    }
   ],
   "source": [
    "df=pd.concat([v for k,v in dataframes.items()],axis=0)\n",
    "df.columns=['text','label_num','label']\n",
    "df=shuffle(df).reset_index(drop=True)\n",
    "df.head()"
   ]
  },
  {
   "cell_type": "code",
   "execution_count": 59,
   "metadata": {
    "ExecuteTime": {
     "end_time": "2023-04-07T18:45:14.246248Z",
     "start_time": "2023-04-07T18:45:13.262137Z"
    },
    "collapsed": false
   },
   "outputs": [],
   "source": [
    "df.to_csv(\"./data.csv\")"
   ]
  }
 ],
 "metadata": {
  "kernelspec": {
   "display_name": "Python 3",
   "language": "python",
   "name": "python3"
  },
  "language_info": {
   "codemirror_mode": {
    "name": "ipython",
    "version": 3
   },
   "file_extension": ".py",
   "mimetype": "text/x-python",
   "name": "python",
   "nbconvert_exporter": "python",
   "pygments_lexer": "ipython3",
   "version": "3.9.12"
  }
 },
 "nbformat": 4,
 "nbformat_minor": 0
}
