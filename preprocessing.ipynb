{
 "cells": [
  {
   "cell_type": "code",
   "execution_count": 3,
   "metadata": {
    "ExecuteTime": {
     "end_time": "2023-04-07T18:30:18.018668Z",
     "start_time": "2023-04-07T18:30:17.998803Z"
    },
    "collapsed": true
   },
   "outputs": [],
   "source": [
    "from bs4 import BeautifulSoup\n",
    "import pandas as pd\n",
    "import os\n",
    "import re"
   ]
  },
  {
   "cell_type": "markdown",
   "metadata": {
    "collapsed": false
   },
   "source": [
    "<h1>Préparation des données (Preprocessing)</h1>"
   ]
  },
  {
   "cell_type": "markdown",
   "metadata": {
    "collapsed": false
   },
   "source": [
    "<h3>Lecture des mails depuis des fichiers<h3>"
   ]
  },
  {
   "cell_type": "code",
   "execution_count": 4,
   "metadata": {
    "ExecuteTime": {
     "end_time": "2023-04-07T18:30:18.030176Z",
     "start_time": "2023-04-07T18:30:18.018668Z"
    },
    "collapsed": false
   },
   "outputs": [
    {
     "data": {
      "text/plain": [
       "['easy_ham', 'hard_ham', 'spam']"
      ]
     },
     "execution_count": 4,
     "metadata": {},
     "output_type": "execute_result"
    }
   ],
   "source": [
    "path=\"./dataset\"\n",
    "directories=os.listdir(path)\n",
    "directories"
   ]
  },
  {
   "cell_type": "markdown",
   "metadata": {
    "collapsed": false
   },
   "source": [
    "<h2></h2>"
   ]
  },
  {
   "attachments": {},
   "cell_type": "markdown",
   "metadata": {},
   "source": [
    "<h2>Suppresion Des Balises HTML</h2>"
   ]
  },
  {
   "cell_type": "code",
   "execution_count": 5,
   "metadata": {},
   "outputs": [
    {
     "name": "stdout",
     "output_type": "stream",
     "text": [
      "Ceci est un extrait de texte HTML.\n"
     ]
    }
   ],
   "source": [
    "def remove_html(email : str)->str:\n",
    "    soup = BeautifulSoup(email, 'html.parser')\n",
    "    new_email = soup.get_text()\n",
    "    return new_email\n",
    "\n",
    "# Test\n",
    "html_text = \"<p>Ceci est un <strong>extrait</strong> de texte HTML.</p>\"\n",
    "print(remove_html(html_text))\n"
   ]
  },
  {
   "attachments": {},
   "cell_type": "markdown",
   "metadata": {},
   "source": [
    "<h2>Normalisation Des URLS</h2>"
   ]
  },
  {
   "cell_type": "code",
   "execution_count": 7,
   "metadata": {},
   "outputs": [
    {
     "name": "stdout",
     "output_type": "stream",
     "text": [
      "Ceci est un lien vers un site internet : httpaddr\n"
     ]
    }
   ],
   "source": [
    "def url_normalization(email : str)->str:\n",
    "    url_regex = r'(http[s]?://(?:[a-zA-Z]|[0-9]|[$-_@.&+]|[!*\\(\\),]|(?:%[0-9a-fA-F][0-9a-fA-F]))+)'\n",
    "    new_email = re.sub(url_regex, 'httpaddr', email)\n",
    "    return new_email\n",
    "# Test\n",
    "url_text = \"Ceci est un lien vers un site internet : https://www.google.com\"\n",
    "print(url_normalization(url_text))"
   ]
  },
  {
   "attachments": {},
   "cell_type": "markdown",
   "metadata": {},
   "source": [
    "<h2>Normalisation Des Adresses Email</h2>"
   ]
  },
  {
   "cell_type": "code",
   "execution_count": null,
   "metadata": {},
   "outputs": [],
   "source": [
    "def address_normalization(email : str)->str:\n",
    "    #insert code"
   ]
  },
  {
   "attachments": {},
   "cell_type": "markdown",
   "metadata": {},
   "source": [
    "<h2>Normalisation Des Nombres</h2>"
   ]
  },
  {
   "cell_type": "code",
   "execution_count": null,
   "metadata": {},
   "outputs": [],
   "source": [
    "def number_normalization(email : str)->str:\n",
    "    #insert code"
   ]
  },
  {
   "attachments": {},
   "cell_type": "markdown",
   "metadata": {},
   "source": [
    "<h2>Normalisation Des Dollars</h2>"
   ]
  },
  {
   "cell_type": "code",
   "execution_count": null,
   "metadata": {},
   "outputs": [],
   "source": [
    "def dollars_normalization(email : str)->str:\n",
    "    #insert code"
   ]
  },
  {
   "attachments": {},
   "cell_type": "markdown",
   "metadata": {},
   "source": [
    "<h2>Radicalisation Des Mots</h2>"
   ]
  },
  {
   "cell_type": "code",
   "execution_count": null,
   "metadata": {},
   "outputs": [],
   "source": [
    "def word_stemming(email : str)->str:\n",
    "    #insert code"
   ]
  },
  {
   "attachments": {},
   "cell_type": "markdown",
   "metadata": {},
   "source": [
    "<h2>Suppression Des Non-mots Et Ponctuation</h2>"
   ]
  },
  {
   "cell_type": "code",
   "execution_count": null,
   "metadata": {},
   "outputs": [],
   "source": [
    "def non_word_cleaning(email : str)->str:\n",
    "    #insert code\n"
   ]
  },
  {
   "cell_type": "code",
   "execution_count": null,
   "metadata": {},
   "outputs": [],
   "source": [
    "def space_cleaning(email : str)->str:\n",
    "    lines=email.split(\"\\n\")\n",
    "    newlines=[' '.join(line.split()) for line in lines]\n",
    "    while '' in newlines:\n",
    "        newlines.remove('')\n",
    "    content=\"\"\n",
    "    for l in newlines:\n",
    "        content+=l.strip() + \" \"\n",
    "    \n",
    "    return content.strip()"
   ]
  },
  {
   "attachments": {},
   "cell_type": "markdown",
   "metadata": {},
   "source": [
    "<h2>Netoyage D'emails<h2>"
   ]
  },
  {
   "cell_type": "code",
   "execution_count": null,
   "metadata": {
    "ExecuteTime": {
     "end_time": "2023-04-07T18:30:22.168513Z",
     "start_time": "2023-04-07T18:30:18.030176Z"
    },
    "collapsed": false
   },
   "outputs": [],
   "source": [
    "files={d:os.listdir(f\"{path}/{d}\") for d in directories}\n",
    "for k,v in files.items():\n",
    "    for i in range(len(v)):\n",
    "        with open(f\"{path}/{k}/{v[i]}\",'r',errors=\"ignore\") as f:\n",
    "            content=f.read().lower()\n",
    "        \n",
    "        email = space_cleaning(content)\n",
    "        email=remove_html(email)\n",
    "        email=url_normalization(email)\n",
    "        email=address_normalization(email)\n",
    "        email=number_normalization(email)\n",
    "        email=dollars_normalization(email)\n",
    "        email=non_word_cleaning(email)\n",
    "        email=word_stemming(email)\n",
    "        v[i]=email\n",
    "\n",
    "files\n",
    "\n"
   ]
  },
  {
   "cell_type": "markdown",
   "metadata": {
    "collapsed": false
   },
   "source": [
    "<h2>Exportation des emails en fichier CSV</h2>"
   ]
  },
  {
   "cell_type": "code",
   "execution_count": null,
   "metadata": {
    "ExecuteTime": {
     "end_time": "2023-04-07T18:44:30.190844Z",
     "start_time": "2023-04-07T18:44:30.175201Z"
    },
    "collapsed": false
   },
   "outputs": [],
   "source": [
    "easy_ham=pd.DataFrame(files['easy_ham'])\n",
    "easy_ham[1]=[0]*easy_ham.shape[0]\n",
    "easy_ham[2]=[\"easy_ham\"]*easy_ham.shape[0]\n",
    "hard_ham=pd.DataFrame(files['hard_ham'])\n",
    "hard_ham[1]=[0]*hard_ham.shape[0]\n",
    "hard_ham[2]=[\"hard_ham\"]*hard_ham.shape[0]\n",
    "spam=pd.DataFrame(files['spam'])\n",
    "spam[1]=[0]*spam.shape[0]\n",
    "spam[2]=[\"spam\"]*spam.shape[0]\n",
    "\n",
    "df=pd.concat([easy_ham,hard_ham,spam],axis=0)\n",
    "df.shape"
   ]
  },
  {
   "cell_type": "code",
   "execution_count": 123,
   "metadata": {
    "ExecuteTime": {
     "end_time": "2023-04-07T18:45:14.246248Z",
     "start_time": "2023-04-07T18:45:13.262137Z"
    },
    "collapsed": false
   },
   "outputs": [],
   "source": [
    "df.to_csv(\"./data.csv\")"
   ]
  }
 ],
 "metadata": {
  "kernelspec": {
   "display_name": "Python 3",
   "language": "python",
   "name": "python3"
  },
  "language_info": {
   "codemirror_mode": {
    "name": "ipython",
    "version": 3
   },
   "file_extension": ".py",
   "mimetype": "text/x-python",
   "name": "python",
   "nbconvert_exporter": "python",
   "pygments_lexer": "ipython3",
   "version": "3.11.2"
  }
 },
 "nbformat": 4,
 "nbformat_minor": 0
}
