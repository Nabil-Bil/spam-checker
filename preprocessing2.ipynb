{
 "cells": [
  {
   "cell_type": "code",
   "execution_count": 1,
   "metadata": {
    "ExecuteTime": {
     "end_time": "2023-04-16T17:57:24.628749Z",
     "start_time": "2023-04-16T17:57:24.599678Z"
    },
    "collapsed": true
   },
   "outputs": [],
   "source": [
    "import pandas as pd\n",
    "from tqdm import  tqdm"
   ]
  },
  {
   "cell_type": "markdown",
   "metadata": {
    "collapsed": false
   },
   "source": [
    "<h1>Préparation des données partie 2</h1>\n",
    "Dans cette partie nous allons faire la construction du vocabulaire et extraction des caractéristiques"
   ]
  },
  {
   "cell_type": "code",
   "execution_count": 2,
   "metadata": {
    "ExecuteTime": {
     "end_time": "2023-04-16T17:47:54.270810Z",
     "start_time": "2023-04-16T17:47:53.892290Z"
    },
    "collapsed": false
   },
   "outputs": [
    {
     "data": {
      "text/plain": "0    emailaddr thu aug number numbernumbernumb numb...\n1    emailaddr mon sep number numbernumbernumb numb...\n2    emailaddr wed sep number numbernumbernumb numb...\n3    emailaddr wed aug number numbernumbernumb numb...\n4    emailaddr wed oct number numbernumbernumb numb...\nName: text, dtype: object"
     },
     "execution_count": 2,
     "metadata": {},
     "output_type": "execute_result"
    }
   ],
   "source": [
    "data=pd.read_csv('./data.csv')\n",
    "X=data['text']\n",
    "X.head()"
   ]
  },
  {
   "cell_type": "markdown",
   "metadata": {
    "collapsed": false
   },
   "source": [
    "<h2>1-Construction du Vocabulaire<h2>\n",
    "<h3>1.1 Géneration du vocabulaire<h3>\n"
   ]
  },
  {
   "cell_type": "code",
   "execution_count": 20,
   "metadata": {
    "collapsed": false
   },
   "outputs": [
    {
     "ename": "IndentationError",
     "evalue": "expected an indented block (Temp/ipykernel_16152/3887299459.py, line 3)",
     "output_type": "error",
     "traceback": [
      "\u001b[1;36m  File \u001b[1;32m\"C:\\Users\\HP01A9~1.LAP\\AppData\\Local\\Temp/ipykernel_16152/3887299459.py\"\u001b[1;36m, line \u001b[1;32m3\u001b[0m\n\u001b[1;33m    #Si le mot existe incrementer le nombre d'apparitions sinon insert le nouveau mot dans le dictionnaire et initialiser la valeur d'apparition a 1\u001b[0m\n\u001b[1;37m                                                                                                                                                    ^\u001b[0m\n\u001b[1;31mIndentationError\u001b[0m\u001b[1;31m:\u001b[0m expected an indented block\n"
     ]
    }
   ],
   "source": [
    "def update_word_list(email:str,word_list:dict):\n",
    "    #Extraire tous les mots de l'email et les mettre dans le dictionnaire vocabulaire.\n",
    "    #Si le mot existe incrementer le nombre d'apparitions sinon insert le nouveau mot dans le dictionnaire et initialiser la valeur d'apparition a 1"
   ]
  },
  {
   "cell_type": "code",
   "execution_count": 21,
   "metadata": {
    "ExecuteTime": {
     "end_time": "2023-04-16T17:57:29.830946Z",
     "start_time": "2023-04-16T17:57:28.689984Z"
    },
    "collapsed": false
   },
   "outputs": [
    {
     "name": "stderr",
     "output_type": "stream",
     "text": [
      "  0%|          | 0/9349 [00:00<?, ?it/s]\n"
     ]
    },
    {
     "ename": "NameError",
     "evalue": "name 'update_word_list' is not defined",
     "output_type": "error",
     "traceback": [
      "\u001b[1;31m---------------------------------------------------------------------------\u001b[0m",
      "\u001b[1;31mNameError\u001b[0m                                 Traceback (most recent call last)",
      "\u001b[1;32mC:\\Users\\HP01A9~1.LAP\\AppData\\Local\\Temp/ipykernel_16152/2057138506.py\u001b[0m in \u001b[0;36m<module>\u001b[1;34m\u001b[0m\n\u001b[0;32m      1\u001b[0m \u001b[0mword_list\u001b[0m\u001b[1;33m=\u001b[0m\u001b[0mdict\u001b[0m\u001b[1;33m(\u001b[0m\u001b[1;33m)\u001b[0m \u001b[1;31m#dictionnaire du vocabulaire sous la forme {mot : nombre d'apparition}\u001b[0m\u001b[1;33m\u001b[0m\u001b[1;33m\u001b[0m\u001b[0m\n\u001b[0;32m      2\u001b[0m \u001b[1;32mfor\u001b[0m \u001b[0mi\u001b[0m \u001b[1;32min\u001b[0m \u001b[0mtqdm\u001b[0m\u001b[1;33m(\u001b[0m\u001b[0mrange\u001b[0m\u001b[1;33m(\u001b[0m\u001b[0mlen\u001b[0m\u001b[1;33m(\u001b[0m\u001b[0mX\u001b[0m\u001b[1;33m)\u001b[0m\u001b[1;33m)\u001b[0m\u001b[1;33m)\u001b[0m\u001b[1;33m:\u001b[0m\u001b[1;33m\u001b[0m\u001b[1;33m\u001b[0m\u001b[0m\n\u001b[1;32m----> 3\u001b[1;33m     \u001b[0mupdate_word_list\u001b[0m\u001b[1;33m(\u001b[0m\u001b[0mX\u001b[0m\u001b[1;33m[\u001b[0m\u001b[0mi\u001b[0m\u001b[1;33m]\u001b[0m\u001b[1;33m,\u001b[0m\u001b[0mword_list\u001b[0m\u001b[1;33m)\u001b[0m\u001b[1;33m\u001b[0m\u001b[1;33m\u001b[0m\u001b[0m\n\u001b[0m",
      "\u001b[1;31mNameError\u001b[0m: name 'update_word_list' is not defined"
     ]
    }
   ],
   "source": [
    "word_list=dict() #dictionnaire du vocabulaire sous la forme {mot : nombre d'apparition}\n",
    "for i in tqdm(range(len(X))):\n",
    "    update_word_list(X[i],word_list)\n"
   ]
  },
  {
   "cell_type": "code",
   "execution_count": 22,
   "metadata": {
    "ExecuteTime": {
     "end_time": "2023-04-16T18:06:39.488499Z",
     "start_time": "2023-04-16T18:06:39.452495Z"
    },
    "collapsed": false
   },
   "outputs": [],
   "source": [
    "def build_vocabulary(word_list:dict,k:int)->list:\r\n",
    "    vocabulary=list()\r\n",
    "    #Construire le vocabulaire en prenant les mots dont le nombre d'apparitions est supérieure à 'k'\r\n",
    "    #Note : Faire plusieurs tests sur k pour avoir un dictionnaire entre 10000 et 50000\r\n",
    "    word_counts = {}\r\n",
    "    for word in word_list:\r\n",
    "        tokens = clean_email(word)\r\n",
    "        for token in tokens:\r\n",
    "            if token not in word_counts:\r\n",
    "                word_counts[token] = 1\r\n",
    "            else:\r\n",
    "                word_counts[token] += 1\r\n",
    "\r\n",
    "    # Chercher le bon k pour avoir un dictionnaire entre 10000 et 50000\r\n",
    "    for i in range(1, k+1):\r\n",
    "        vocab = [word for word, count in word_counts.items() if count >=i ]\r\n",
    "        if len(vocab) >= 10000 and len(vocab) <= 50000:\r\n",
    "            vocabulary = vocab\r\n",
    "            break\r\n",
    "\r\n",
    "    return vocabularyfor word in word_list:\r\n",
    "        tokens = clean_email(word_list)\r\n",
    "        vocabulary.update(tokens)\r\n",
    "    return  vocabulary"
   ]
  },
  {
   "cell_type": "code",
   "execution_count": 19,
   "metadata": {
    "collapsed": false
   },
   "outputs": [],
   "source": [
    "#Génération du vocabulaire dans un fichier\n",
    "k=1\n",
    "vocabulary=build_vocabulary(word_list, k)\n",
    "with open('vocab.txt','w') as f:\n",
    "    for i in vocabulary:\n",
    "        f.write(f\"{i}\\n\")\n"
   ]
  },
  {
   "cell_type": "markdown",
   "metadata": {
    "collapsed": false
   },
   "source": [
    "<h3>1.2 Indéxation des mots de chaque mail</h3>"
   ]
  },
  {
   "cell_type": "code",
   "execution_count": 9,
   "metadata": {
    "collapsed": false
   },
   "outputs": [],
   "source": [
    "def get_vocabulary(filename:str)->list:\n",
    "    with open(filename, 'r') as file:\n",
    "        # lire le fichier en tant que texte\n",
    "        text = file.read()\n",
    "        # convertir le texte en liste de mots\n",
    "        vocabulary_list = text.split()\n",
    "    return vocabulary_list"
   ]
  },
  {
   "cell_type": "code",
   "execution_count": 10,
   "metadata": {
    "collapsed": false
   },
   "outputs": [],
   "source": [
    "def indexation(vocabList:list,email:str)->list:\n",
    "     index=list()\n",
    "    #Découper l'email en tableau de mot\n",
    "     words = email.split()\n",
    "    #Parcourir chaque mot dans l'email et trouver son index dans la liste de vocabulaire\n",
    "     for word in words:\n",
    "        if word in vocabList:\n",
    "            #Ajouter l'index du mot dans la liste d'index de mots\n",
    "            index.append(vocabList.index(word))\n",
    "     return index"
   ]
  },
  {
   "cell_type": "code",
   "execution_count": 11,
   "metadata": {},
   "outputs": [],
   "source": [
    "#just a random test\n",
    "# test_str = \"sing hello to the world eat pizza and chocolate enjoy the sunshine read a book and watch a movie\"\n",
    "# vocabList = get_vocabulary('test.txt')\n",
    "# indexation(vocabList,test_str)"
   ]
  },
  {
   "cell_type": "code",
   "execution_count": 12,
   "metadata": {
    "collapsed": false
   },
   "outputs": [],
   "source": [
    "def generateAllIndexes(vocabList:list,emails)->list:\n",
    "    list_index=list()\n",
    "    for i in tqdm(range(len(emails))):\n",
    "        list_index.append(indexation(vocabulary,X[i]))\n",
    "    return list_index"
   ]
  },
  {
   "cell_type": "markdown",
   "metadata": {
    "collapsed": false
   },
   "source": [
    "<h2>Extraction des caractéristiques</h2>\n",
    "Représentation des caractéristiques par comptage"
   ]
  },
  {
   "cell_type": "code",
   "execution_count": 13,
   "metadata": {
    "collapsed": false
   },
   "outputs": [],
   "source": [
    "def extract_car(vocabList:list,index:list)->list:\n",
    "    caracteristic_vect=list()\n",
    "    #Utiliser l'index créé dans l'étape d'indexation pour remplir le vecteur des caractéristique la taille du vecteur est eagle au nombre de mots du vocabulaire et qui sera initialiser à 0 et à chaque apparition du i eme mot faire la mise a jour du vecteur caracteristiques\n",
    "    return caracteristic_vect"
   ]
  },
  {
   "cell_type": "code",
   "execution_count": 14,
   "metadata": {
    "collapsed": false
   },
   "outputs": [],
   "source": [
    "def extract_car_emails(vocabList:list,emails:list)->list:\n",
    "    allEmailsCarac=list()\n",
    "    for i in tqdm(range(len(X=emails))):\n",
    "        allEmailsCarac.append(extract_car(vocabList,emails[i]))"
   ]
  }
 ],
 "metadata": {
  "kernelspec": {
   "display_name": "Python 3",
   "language": "python",
   "name": "python3"
  },
  "language_info": {
   "codemirror_mode": {
    "name": "ipython",
    "version": 3
   },
   "file_extension": ".py",
   "mimetype": "text/x-python",
   "name": "python",
   "nbconvert_exporter": "python",
   "pygments_lexer": "ipython3",
   "version": "3.11.2"
  }
 },
 "nbformat": 4,
 "nbformat_minor": 0
}