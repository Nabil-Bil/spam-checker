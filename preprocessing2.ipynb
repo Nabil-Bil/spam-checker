{
 "cells": [
  {
   "cell_type": "code",
   "execution_count": 29,
   "metadata": {
    "ExecuteTime": {
     "end_time": "2023-04-16T17:57:24.628749Z",
     "start_time": "2023-04-16T17:57:24.599678Z"
    },
    "collapsed": true
   },
   "outputs": [],
   "source": [
    "import pandas as pd\n",
    "from tqdm import  tqdm"
   ]
  },
  {
   "cell_type": "markdown",
   "metadata": {
    "collapsed": false
   },
   "source": [
    "<h1>Préparation des données partie 2</h1>\n",
    "Dans cette partie nous allons faire la construction du vocabulaire et extraction des caractéristiques"
   ]
  },
  {
   "cell_type": "code",
   "execution_count": 30,
   "metadata": {
    "ExecuteTime": {
     "end_time": "2023-04-16T17:47:54.270810Z",
     "start_time": "2023-04-16T17:47:53.892290Z"
    },
    "collapsed": false
   },
   "outputs": [
    {
     "data": {
      "text/plain": [
       "0    emailaddr mon aug number numbernumbernumb numb...\n",
       "1    emailaddr wed sep number numbernumbernumb numb...\n",
       "2    emailaddr sat oct number numbernumbernumb numb...\n",
       "3    senttonumbernumbernumberzzzzemailaddr fri sep ...\n",
       "4    emailaddr wed oct number numbernumbernumb numb...\n",
       "Name: text, dtype: object"
      ]
     },
     "execution_count": 30,
     "metadata": {},
     "output_type": "execute_result"
    }
   ],
   "source": [
    "data=pd.read_csv('./emails.csv')\n",
    "X=data['text']\n",
    "X.head()"
   ]
  },
  {
   "cell_type": "markdown",
   "metadata": {
    "collapsed": false
   },
   "source": [
    "<h2>1-Construction du Vocabulaire<h2>\n",
    "<h3>1.1 Géneration du vocabulaire<h3>\n"
   ]
  },
  {
   "cell_type": "code",
   "execution_count": 31,
   "metadata": {
    "collapsed": false
   },
   "outputs": [],
   "source": [
    "def update_word_list(email:str,word_list:dict):\n",
    "    words = email.split(' ')\n",
    "    \n",
    "    for word in words:\n",
    "        if word not in word_list:\n",
    "            word_list[word] = 1\n",
    "        else:\n",
    "            word_list[word] += 1"
   ]
  },
  {
   "cell_type": "code",
   "execution_count": 32,
   "metadata": {
    "ExecuteTime": {
     "end_time": "2023-04-16T17:57:29.830946Z",
     "start_time": "2023-04-16T17:57:28.689984Z"
    },
    "collapsed": false
   },
   "outputs": [
    {
     "name": "stderr",
     "output_type": "stream",
     "text": [
      "100%|██████████| 9349/9349 [00:00<00:00, 9493.22it/s] \n"
     ]
    }
   ],
   "source": [
    "word_list=dict() #dictionnaire du vocabulaire sous la forme {mot : nombre d'apparition}\n",
    "for i in tqdm(range(len(X))):\n",
    "    update_word_list(X[i],word_list)"
   ]
  },
  {
   "cell_type": "code",
   "execution_count": 33,
   "metadata": {
    "ExecuteTime": {
     "end_time": "2023-04-16T18:06:39.488499Z",
     "start_time": "2023-04-16T18:06:39.452495Z"
    },
    "collapsed": false
   },
   "outputs": [],
   "source": [
    "def build_vocabulary(word_list:dict,k:int)->list:\n",
    "    vocabulary = [word for word, count in word_list.items() if count >=k ]\n",
    "    return  vocabulary"
   ]
  },
  {
   "cell_type": "code",
   "execution_count": 34,
   "metadata": {
    "collapsed": false
   },
   "outputs": [
    {
     "data": {
      "text/plain": [
       "31550"
      ]
     },
     "execution_count": 34,
     "metadata": {},
     "output_type": "execute_result"
    }
   ],
   "source": [
    "#Génération du vocabulaire dans un fichier\n",
    "k=3\n",
    "vocabulary=build_vocabulary(word_list, k)\n",
    "with open('vocab.txt','w') as f:\n",
    "    for i in vocabulary:\n",
    "        f.write(f\"{i}\\n\")\n",
    "len(vocabulary)"
   ]
  },
  {
   "cell_type": "markdown",
   "metadata": {
    "collapsed": false
   },
   "source": [
    "<h3>1.2 Indéxation des mots de chaque mail</h3>"
   ]
  },
  {
   "cell_type": "code",
   "execution_count": 35,
   "metadata": {
    "collapsed": false
   },
   "outputs": [],
   "source": [
    "def get_vocabulary(filename:str)->list:\n",
    "    with open(filename, 'r') as file:\n",
    "        # lire le fichier en tant que texte\n",
    "        text = file.read()\n",
    "        # convertir le texte en liste de mots\n",
    "        vocabulary_list = text.split()\n",
    "    return vocabulary_list\n"
   ]
  },
  {
   "cell_type": "code",
   "execution_count": 36,
   "metadata": {
    "collapsed": false
   },
   "outputs": [],
   "source": [
    "def indexation(vocabList:list,email:str)->list:\n",
    "    index=list()\n",
    "    #Découper l'email en tableau de mot\n",
    "    words = email.split(' ')\n",
    "    #Parcourir chaque mot dans l'email et trouver son index dans la liste de vocabulaire\n",
    "    for word in words:\n",
    "        if word in vocabList:\n",
    "            #Ajouter l'index du mot dans la liste d'index de mots\n",
    "            index.append(vocabList.index(word))\n",
    "    return index"
   ]
  },
  {
   "cell_type": "code",
   "execution_count": 37,
   "metadata": {
    "collapsed": false
   },
   "outputs": [],
   "source": [
    "def generateAllIndexes(vocabList:list,emails)->list:\n",
    "    list_index=list()\n",
    "    for i in tqdm(range(len(emails))):\n",
    "        list_index.append(indexation(vocabList,X[i]))\n",
    "    return list_index"
   ]
  },
  {
   "cell_type": "markdown",
   "metadata": {
    "collapsed": false
   },
   "source": [
    "<h2>Extraction des caractéristiques</h2>\n",
    "Représentation des caractéristiques par comptage"
   ]
  },
  {
   "cell_type": "code",
   "execution_count": 38,
   "metadata": {
    "collapsed": false
   },
   "outputs": [],
   "source": [
    "def extract_car(vocabList:list,index:list)->list:\n",
    "    # Créer une liste vide de taille meme taille que vocabList\n",
    "    caracteristic_vect = [0] * len(vocabList)\n",
    "    #Utiliser l'index créé dans l'étape d'indexation pour remplir le vecteur des caractéristique la taille du vecteur est eagle au nombre de mots du \n",
    "    # vocabulaire et qui sera initialiser à 0 et à chaque apparition du i eme mot faire la mise a jour du vecteur caracteristiques\n",
    "    #Parcourir chaque element dans index \n",
    "    for i in range(len(index)):\n",
    "            #incrementer la case[index] de 1 dans caracteristic_vect\n",
    "            caracteristic_vect[index[i]]+=1\n",
    "            \n",
    "    return caracteristic_vect"
   ]
  },
  {
   "cell_type": "code",
   "execution_count": 39,
   "metadata": {
    "collapsed": false
   },
   "outputs": [],
   "source": [
    "def extract_car_emails(vocabList:list,indexes:list)->list:\n",
    "    allEmailsCarac=list()\n",
    "    for i in tqdm(range(len(indexes))):\n",
    "        allEmailsCarac.append(extract_car(vocabList,indexes[i]))\n",
    "    return allEmailsCarac\n"
   ]
  },
  {
   "cell_type": "code",
   "execution_count": 40,
   "metadata": {},
   "outputs": [
    {
     "data": {
      "text/plain": [
       "31550"
      ]
     },
     "execution_count": 40,
     "metadata": {},
     "output_type": "execute_result"
    }
   ],
   "source": [
    "vocabulary=get_vocabulary('vocab.txt')\n",
    "vocabulary\n",
    "len(vocabulary)"
   ]
  },
  {
   "cell_type": "code",
   "execution_count": null,
   "metadata": {},
   "outputs": [],
   "source": [
    "indexes=generateAllIndexes(vocabulary,X)"
   ]
  },
  {
   "cell_type": "code",
   "execution_count": 46,
   "metadata": {},
   "outputs": [
    {
     "name": "stderr",
     "output_type": "stream",
     "text": [
      "100%|██████████| 9349/9349 [00:03<00:00, 2790.68it/s]\n"
     ]
    },
    {
     "data": {
      "text/plain": [
       "31550"
      ]
     },
     "execution_count": 46,
     "metadata": {},
     "output_type": "execute_result"
    }
   ],
   "source": [
    "features=extract_car_emails(vocabulary,indexes)\n",
    "len(features[0])\n"
   ]
  },
  {
   "cell_type": "code",
   "execution_count": 53,
   "metadata": {},
   "outputs": [
    {
     "data": {
      "text/html": [
       "<div>\n",
       "<style scoped>\n",
       "    .dataframe tbody tr th:only-of-type {\n",
       "        vertical-align: middle;\n",
       "    }\n",
       "\n",
       "    .dataframe tbody tr th {\n",
       "        vertical-align: top;\n",
       "    }\n",
       "\n",
       "    .dataframe thead th {\n",
       "        text-align: right;\n",
       "    }\n",
       "</style>\n",
       "<table border=\"1\" class=\"dataframe\">\n",
       "  <thead>\n",
       "    <tr style=\"text-align: right;\">\n",
       "      <th></th>\n",
       "      <th>label_num</th>\n",
       "      <th>label</th>\n",
       "      <th>0</th>\n",
       "      <th>1</th>\n",
       "      <th>2</th>\n",
       "      <th>3</th>\n",
       "      <th>4</th>\n",
       "      <th>5</th>\n",
       "      <th>6</th>\n",
       "      <th>7</th>\n",
       "      <th>...</th>\n",
       "      <th>31540</th>\n",
       "      <th>31541</th>\n",
       "      <th>31542</th>\n",
       "      <th>31543</th>\n",
       "      <th>31544</th>\n",
       "      <th>31545</th>\n",
       "      <th>31546</th>\n",
       "      <th>31547</th>\n",
       "      <th>31548</th>\n",
       "      <th>31549</th>\n",
       "    </tr>\n",
       "  </thead>\n",
       "  <tbody>\n",
       "    <tr>\n",
       "      <th>0</th>\n",
       "      <td>0</td>\n",
       "      <td>easy_ham</td>\n",
       "      <td>14</td>\n",
       "      <td>11</td>\n",
       "      <td>14</td>\n",
       "      <td>43</td>\n",
       "      <td>17</td>\n",
       "      <td>1</td>\n",
       "      <td>2</td>\n",
       "      <td>10</td>\n",
       "      <td>...</td>\n",
       "      <td>0</td>\n",
       "      <td>0</td>\n",
       "      <td>0</td>\n",
       "      <td>0</td>\n",
       "      <td>0</td>\n",
       "      <td>0</td>\n",
       "      <td>0</td>\n",
       "      <td>0</td>\n",
       "      <td>0</td>\n",
       "      <td>0</td>\n",
       "    </tr>\n",
       "    <tr>\n",
       "      <th>1</th>\n",
       "      <td>0</td>\n",
       "      <td>easy_ham</td>\n",
       "      <td>10</td>\n",
       "      <td>0</td>\n",
       "      <td>0</td>\n",
       "      <td>45</td>\n",
       "      <td>13</td>\n",
       "      <td>1</td>\n",
       "      <td>1</td>\n",
       "      <td>9</td>\n",
       "      <td>...</td>\n",
       "      <td>0</td>\n",
       "      <td>0</td>\n",
       "      <td>0</td>\n",
       "      <td>0</td>\n",
       "      <td>0</td>\n",
       "      <td>0</td>\n",
       "      <td>0</td>\n",
       "      <td>0</td>\n",
       "      <td>0</td>\n",
       "      <td>0</td>\n",
       "    </tr>\n",
       "    <tr>\n",
       "      <th>2</th>\n",
       "      <td>0</td>\n",
       "      <td>easy_ham</td>\n",
       "      <td>4</td>\n",
       "      <td>0</td>\n",
       "      <td>0</td>\n",
       "      <td>15</td>\n",
       "      <td>5</td>\n",
       "      <td>1</td>\n",
       "      <td>1</td>\n",
       "      <td>3</td>\n",
       "      <td>...</td>\n",
       "      <td>0</td>\n",
       "      <td>0</td>\n",
       "      <td>0</td>\n",
       "      <td>0</td>\n",
       "      <td>0</td>\n",
       "      <td>0</td>\n",
       "      <td>0</td>\n",
       "      <td>0</td>\n",
       "      <td>0</td>\n",
       "      <td>0</td>\n",
       "    </tr>\n",
       "    <tr>\n",
       "      <th>3</th>\n",
       "      <td>0</td>\n",
       "      <td>easy_ham</td>\n",
       "      <td>10</td>\n",
       "      <td>0</td>\n",
       "      <td>0</td>\n",
       "      <td>39</td>\n",
       "      <td>12</td>\n",
       "      <td>1</td>\n",
       "      <td>2</td>\n",
       "      <td>10</td>\n",
       "      <td>...</td>\n",
       "      <td>0</td>\n",
       "      <td>0</td>\n",
       "      <td>0</td>\n",
       "      <td>0</td>\n",
       "      <td>0</td>\n",
       "      <td>0</td>\n",
       "      <td>0</td>\n",
       "      <td>0</td>\n",
       "      <td>0</td>\n",
       "      <td>0</td>\n",
       "    </tr>\n",
       "    <tr>\n",
       "      <th>4</th>\n",
       "      <td>0</td>\n",
       "      <td>easy_ham</td>\n",
       "      <td>10</td>\n",
       "      <td>0</td>\n",
       "      <td>0</td>\n",
       "      <td>31</td>\n",
       "      <td>13</td>\n",
       "      <td>1</td>\n",
       "      <td>1</td>\n",
       "      <td>6</td>\n",
       "      <td>...</td>\n",
       "      <td>0</td>\n",
       "      <td>0</td>\n",
       "      <td>0</td>\n",
       "      <td>0</td>\n",
       "      <td>0</td>\n",
       "      <td>0</td>\n",
       "      <td>0</td>\n",
       "      <td>0</td>\n",
       "      <td>0</td>\n",
       "      <td>0</td>\n",
       "    </tr>\n",
       "  </tbody>\n",
       "</table>\n",
       "<p>5 rows × 31552 columns</p>\n",
       "</div>"
      ],
      "text/plain": [
       "   label_num     label   0   1   2   3   4  5  6   7  ...  31540  31541  \\\n",
       "0          0  easy_ham  14  11  14  43  17  1  2  10  ...      0      0   \n",
       "1          0  easy_ham  10   0   0  45  13  1  1   9  ...      0      0   \n",
       "2          0  easy_ham   4   0   0  15   5  1  1   3  ...      0      0   \n",
       "3          0  easy_ham  10   0   0  39  12  1  2  10  ...      0      0   \n",
       "4          0  easy_ham  10   0   0  31  13  1  1   6  ...      0      0   \n",
       "\n",
       "   31542  31543  31544  31545  31546  31547  31548  31549  \n",
       "0      0      0      0      0      0      0      0      0  \n",
       "1      0      0      0      0      0      0      0      0  \n",
       "2      0      0      0      0      0      0      0      0  \n",
       "3      0      0      0      0      0      0      0      0  \n",
       "4      0      0      0      0      0      0      0      0  \n",
       "\n",
       "[5 rows x 31552 columns]"
      ]
     },
     "execution_count": 53,
     "metadata": {},
     "output_type": "execute_result"
    }
   ],
   "source": [
    "featuresDF=pd.DataFrame(features)\n",
    "df=pd.concat([pd.DataFrame(data['label_num']),pd.DataFrame(data['label']),featuresDF],axis=1)\n",
    "df.head()"
   ]
  },
  {
   "cell_type": "code",
   "execution_count": 55,
   "metadata": {},
   "outputs": [],
   "source": [
    "df.to_csv('dataset.csv',index=False)"
   ]
  }
 ],
 "metadata": {
  "kernelspec": {
   "display_name": "Python 3",
   "language": "python",
   "name": "python3"
  },
  "language_info": {
   "codemirror_mode": {
    "name": "ipython",
    "version": 3
   },
   "file_extension": ".py",
   "mimetype": "text/x-python",
   "name": "python",
   "nbconvert_exporter": "python",
   "pygments_lexer": "ipython3",
   "version": "3.9.12"
  }
 },
 "nbformat": 4,
 "nbformat_minor": 0
}
