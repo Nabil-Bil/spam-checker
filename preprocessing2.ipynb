{
 "cells": [
  {
   "cell_type": "code",
   "execution_count": 18,
   "metadata": {
    "collapsed": true,
    "ExecuteTime": {
     "start_time": "2023-04-16T17:57:24.599678Z",
     "end_time": "2023-04-16T17:57:24.628749Z"
    }
   },
   "outputs": [],
   "source": [
    "import pandas as pd\n",
    "from tqdm import  tqdm"
   ]
  },
  {
   "cell_type": "markdown",
   "source": [
    "<h1>Préparation des données partie 2</h1>\n",
    "Dans cette partie nous allons faire la construction du vocabulaire et extraction des caractéristiques"
   ],
   "metadata": {
    "collapsed": false
   }
  },
  {
   "cell_type": "code",
   "execution_count": 14,
   "outputs": [
    {
     "data": {
      "text/plain": "0    emailaddr thu aug number numbernumbernumb numb...\n1    emailaddr mon sep number numbernumbernumb numb...\n2    emailaddr wed sep number numbernumbernumb numb...\n3    emailaddr wed aug number numbernumbernumb numb...\n4    emailaddr wed oct number numbernumbernumb numb...\nName: text, dtype: object"
     },
     "execution_count": 14,
     "metadata": {},
     "output_type": "execute_result"
    }
   ],
   "source": [
    "data=pd.read_csv('./data.csv')\n",
    "X=data['text']\n",
    "X.head()"
   ],
   "metadata": {
    "collapsed": false,
    "ExecuteTime": {
     "start_time": "2023-04-16T17:47:53.892290Z",
     "end_time": "2023-04-16T17:47:54.270810Z"
    }
   }
  },
  {
   "cell_type": "markdown",
   "source": [
    "<h2>1-Construction du Vocabulaire<h2>\n",
    "<h3>1.1 Géneration du vocabulaire<h3>\n"
   ],
   "metadata": {
    "collapsed": false
   }
  },
  {
   "cell_type": "code",
   "execution_count": null,
   "outputs": [],
   "source": [
    "def update_word_list(email:str,word_list:dict):\n",
    "    #Extraire tous les mots de l'email et les mettre dans le dictionnaire vocabulaire.\n",
    "    #Si le mot existe incrementer le nombre d'apparitions sinon insert le nouveau mot dans le dictionnaire et initialiser la valeur d'apparition a 1"
   ],
   "metadata": {
    "collapsed": false
   }
  },
  {
   "cell_type": "code",
   "execution_count": null,
   "outputs": [],
   "source": [
    "word_list=dict() #dictionnaire du vocabulaire sous la forme {mot : nombre d'apparition}\n",
    "for i in tqdm(range(len(X))):\n",
    "    update_word_list(X[i],word_list)\n"
   ],
   "metadata": {
    "collapsed": false,
    "ExecuteTime": {
     "start_time": "2023-04-16T17:57:28.689984Z",
     "end_time": "2023-04-16T17:57:29.830946Z"
    }
   }
  },
  {
   "cell_type": "code",
   "execution_count": 21,
   "outputs": [],
   "source": [
    "def build_vocabulary(word_list:dict,k:int)->list:\n",
    "    vocabulary=list()\n",
    "    #Construire le vocabulaire en prenant les mots dont le nombre d'apparitions est supérieure à 'k'\n",
    "    #Note : Faire plusieurs tests sur k pour avoir un dictionnaire entre 10000 et 50000\n",
    "    return  vocabulary"
   ],
   "metadata": {
    "collapsed": false,
    "ExecuteTime": {
     "start_time": "2023-04-16T18:06:39.452495Z",
     "end_time": "2023-04-16T18:06:39.488499Z"
    }
   }
  },
  {
   "cell_type": "code",
   "execution_count": null,
   "outputs": [],
   "source": [
    "#Génération du vocabulaire dans un fichier\n",
    "k=1\n",
    "vocabulary=build_vocabulary(word_list, k)\n",
    "with open('vocab.txt','w') as f:\n",
    "    for i in vocabulary:\n",
    "        f.write(f\"{i}\\n\")\n"
   ],
   "metadata": {
    "collapsed": false
   }
  },
  {
   "cell_type": "markdown",
   "source": [
    "<h3>1.2 Indéxation des mots de chaque mail</h3>"
   ],
   "metadata": {
    "collapsed": false
   }
  },
  {
   "cell_type": "code",
   "execution_count": null,
   "outputs": [],
   "source": [
    "def get_vocabulary(filename:str)->list:\n"
   ],
   "metadata": {
    "collapsed": false
   }
  },
  {
   "cell_type": "code",
   "execution_count": null,
   "outputs": [],
   "source": [
    "def indexation(vocabList:list,email:str)->list:\n",
    "    index=list()\n",
    "    #Découper l'email en tableau de mot puis l'index de chaque mot dans un vecteur représente la position du mot dans le vocabulaire s'il existe sinon ignorer le mot\n",
    "    return index"
   ],
   "metadata": {
    "collapsed": false
   }
  },
  {
   "cell_type": "code",
   "execution_count": null,
   "outputs": [],
   "source": [
    "def generateAllIndexes(vocabList:list,emails)->list:\n",
    "    list_index=list()\n",
    "    for i in tqdm(range(len(emails))):\n",
    "        list_index.append(indexation(vocabulary,X[i]))\n",
    "    return list_index"
   ],
   "metadata": {
    "collapsed": false
   }
  },
  {
   "cell_type": "markdown",
   "source": [
    "<h2>Extraction des caractéristiques</h2>\n",
    "Représentation des caractéristiques par comptage"
   ],
   "metadata": {
    "collapsed": false
   }
  },
  {
   "cell_type": "code",
   "execution_count": null,
   "outputs": [],
   "source": [
    "def extract_car(vocabList:list,index:list)->list:\n",
    "    caracteristic_vect=list()\n",
    "    #Utiliser l'index créé dans l'étape d'indexation pour remplir le vecteur des caractéristique la taille du vecteur est eagle au nombre de mots du vocabulaire et qui sera initialiser à 0 et à chaque apparition du i eme mot faire la mise a jour du vecteur caracteristiques\n",
    "    return caracteristic_vect"
   ],
   "metadata": {
    "collapsed": false
   }
  },
  {
   "cell_type": "code",
   "execution_count": null,
   "outputs": [],
   "source": [
    "def extract_car_emails(vocabList:list,emails:list)->list:\n",
    "    allEmailsCarac=list()\n",
    "    for i in tqdm(range(len(X=emails))):\n",
    "        allEmailsCarac.append(extract_car(vocabList,emails[i]))"
   ],
   "metadata": {
    "collapsed": false
   }
  }
 ],
 "metadata": {
  "kernelspec": {
   "display_name": "Python 3",
   "language": "python",
   "name": "python3"
  },
  "language_info": {
   "codemirror_mode": {
    "name": "ipython",
    "version": 2
   },
   "file_extension": ".py",
   "mimetype": "text/x-python",
   "name": "python",
   "nbconvert_exporter": "python",
   "pygments_lexer": "ipython2",
   "version": "2.7.6"
  }
 },
 "nbformat": 4,
 "nbformat_minor": 0
}
