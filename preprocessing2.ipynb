{
 "cells": [
  {
   "cell_type": "code",
   "execution_count": null,
   "metadata": {
    "ExecuteTime": {
     "end_time": "2023-04-16T17:57:24.628749Z",
     "start_time": "2023-04-16T17:57:24.599678Z"
    },
    "collapsed": true
   },
   "outputs": [],
   "source": [
    "import pandas as pd\n",
    "from tqdm import  tqdm"
   ]
  },
  {
   "cell_type": "markdown",
   "metadata": {
    "collapsed": false
   },
   "source": [
    "<h1>Préparation des données partie 2</h1>\n",
    "Dans cette partie nous allons faire la construction du vocabulaire et extraction des caractéristiques"
   ]
  },
  {
   "cell_type": "code",
   "execution_count": null,
   "metadata": {
    "ExecuteTime": {
     "end_time": "2023-04-16T17:47:54.270810Z",
     "start_time": "2023-04-16T17:47:53.892290Z"
    },
    "collapsed": false
   },
   "outputs": [],
   "source": [
    "data=pd.read_csv('./data.csv')\n",
    "X=data['text']\n",
    "X.head()"
   ]
  },
  {
   "cell_type": "markdown",
   "metadata": {
    "collapsed": false
   },
   "source": [
    "<h2>1-Construction du Vocabulaire<h2>\n",
    "<h3>1.1 Géneration du vocabulaire<h3>\n"
   ]
  },
  {
   "cell_type": "code",
   "execution_count": null,
   "metadata": {
    "collapsed": false
   },
   "outputs": [],
   "source": [
    "def update_word_list(email:str,word_list:dict):\n",
    "    #Extraire tous les mots de l'email et les mettre dans le dictionnaire vocabulaire.\n",
    "    #Si le mot existe incrementer le nombre d'apparitions sinon insert le nouveau mot dans le dictionnaire et initialiser la valeur d'apparition a 1"
   ]
  },
  {
   "cell_type": "code",
   "execution_count": null,
   "metadata": {
    "ExecuteTime": {
     "end_time": "2023-04-16T17:57:29.830946Z",
     "start_time": "2023-04-16T17:57:28.689984Z"
    },
    "collapsed": false
   },
   "outputs": [],
   "source": [
    "word_list=dict() #dictionnaire du vocabulaire sous la forme {mot : nombre d'apparition}\n",
    "for i in tqdm(range(len(X))):\n",
    "    update_word_list(X[i],word_list)\n"
   ]
  },
  {
   "cell_type": "code",
   "execution_count": null,
   "metadata": {
    "ExecuteTime": {
     "end_time": "2023-04-16T18:06:39.488499Z",
     "start_time": "2023-04-16T18:06:39.452495Z"
    },
    "collapsed": false
   },
   "outputs": [],
   "source": [
    "def build_vocabulary(word_list:dict,k:int)->list:\n",
    "    vocabulary=list()\n",
    "    #Construire le vocabulaire en prenant les mots dont le nombre d'apparitions est supérieure à 'k'\n",
    "    #Note : Faire plusieurs tests sur k pour avoir un dictionnaire entre 10000 et 50000\n",
    "    return  vocabulary"
   ]
  },
  {
   "cell_type": "code",
   "execution_count": null,
   "metadata": {
    "collapsed": false
   },
   "outputs": [],
   "source": [
    "#Génération du vocabulaire dans un fichier\n",
    "k=1\n",
    "vocabulary=build_vocabulary(word_list, k)\n",
    "with open('vocab.txt','w') as f:\n",
    "    for i in vocabulary:\n",
    "        f.write(f\"{i}\\n\")\n"
   ]
  },
  {
   "cell_type": "markdown",
   "metadata": {
    "collapsed": false
   },
   "source": [
    "<h3>1.2 Indéxation des mots de chaque mail</h3>"
   ]
  },
  {
   "cell_type": "code",
   "execution_count": 7,
   "metadata": {
    "collapsed": false
   },
   "outputs": [],
   "source": [
    "def get_vocabulary(filename:str)->list:\n",
    "    with open(filename, 'r') as file:\n",
    "        # lire le fichier en tant que texte\n",
    "        text = file.read()\n",
    "        # convertir le texte en liste de mots\n",
    "        vocabulary_list = text.split()\n",
    "    return vocabulary_list"
   ]
  },
  {
   "cell_type": "code",
   "execution_count": 8,
   "metadata": {
    "collapsed": false
   },
   "outputs": [],
   "source": [
    "def indexation(vocabList:list,email:str)->list:\n",
    "     index=list()\n",
    "    #Découper l'email en tableau de mot\n",
    "     words = email.split()\n",
    "    #Parcourir chaque mot dans l'email et trouver son index dans la liste de vocabulaire\n",
    "     for word in words:\n",
    "        if word in vocabList:\n",
    "            #Ajouter l'index du mot dans la liste d'index de mots\n",
    "            index.append(vocabList.index(word))\n",
    "     return index"
   ]
  },
  {
   "cell_type": "code",
   "execution_count": 9,
   "metadata": {},
   "outputs": [
    {
     "data": {
      "text/plain": [
       "[9, 1, 8, 4, 13, 19]"
      ]
     },
     "execution_count": 9,
     "metadata": {},
     "output_type": "execute_result"
    }
   ],
   "source": [
    "#just a random test\n",
    "# test_str = \"sing hello to the world eat pizza and chocolate enjoy the sunshine read a book and watch a movie\"\n",
    "# vocabList = get_vocabulary('test.txt')\n",
    "# indexation(vocabList,test_str)"
   ]
  },
  {
   "cell_type": "code",
   "execution_count": null,
   "metadata": {
    "collapsed": false
   },
   "outputs": [],
   "source": [
    "def generateAllIndexes(vocabList:list,emails)->list:\n",
    "    list_index=list()\n",
    "    for i in tqdm(range(len(emails))):\n",
    "        list_index.append(indexation(vocabulary,X[i]))\n",
    "    return list_index"
   ]
  },
  {
   "cell_type": "markdown",
   "metadata": {
    "collapsed": false
   },
   "source": [
    "<h2>Extraction des caractéristiques</h2>\n",
    "Représentation des caractéristiques par comptage"
   ]
  },
  {
   "cell_type": "code",
   "execution_count": null,
   "metadata": {
    "collapsed": false
   },
   "outputs": [],
   "source": [
    "def extract_car(vocabList:list,index:list)->list:\n",
    "    # Créer une liste vide de taille meme taille que vocabList\n",
    "    caracteristic_vect = [0] * len(vocabList)\n",
    "    #Utiliser l'index créé dans l'étape d'indexation pour remplir le vecteur des caractéristique la taille du vecteur est eagle au nombre de mots du \n",
    "    # vocabulaire et qui sera initialiser à 0 et à chaque apparition du i eme mot faire la mise a jour du vecteur caracteristiques\n",
    "    #Parcourir chaque element dans index \n",
    "    for i in range(len(index)):\n",
    "            #incrementer la case[index] de 1 dans caracteristic_vect\n",
    "            caracteristic_vect[index[i]]+=1\n",
    "            \n",
    "    return caracteristic_vect"
   ]
  },
  {
   "cell_type": "code",
   "execution_count": null,
   "metadata": {},
   "outputs": [],
   "source": [
    "#just a random test\n",
    "test_str = \"hello  the truth will set you free , free  \"\n",
    "vocabList = get_vocabulary('test.txt')\n",
    "index=indexation(vocabList,test_str)\n",
    "print(index)\n",
    "extract_car(vocabList,index)"
   ]
  },
  {
   "cell_type": "code",
   "execution_count": null,
   "metadata": {
    "collapsed": false
   },
   "outputs": [],
   "source": [
    "def extract_car_emails(vocabList:list,emails:list)->list:\n",
    "    allEmailsCarac=list()\n",
    "    for i in tqdm(range(len(X=emails))):\n",
    "        allEmailsCarac.append(extract_car(vocabList,emails[i]))\n",
    "    return allEmailsCarac"
   ]
  }
 ],
 "metadata": {
  "kernelspec": {
   "display_name": "Python 3",
   "language": "python",
   "name": "python3"
  },
  "language_info": {
   "codemirror_mode": {
    "name": "ipython",
    "version": 3
   },
   "file_extension": ".py",
   "mimetype": "text/x-python",
   "name": "python",
   "nbconvert_exporter": "python",
   "pygments_lexer": "ipython3",
   "version": "3.11.2"
  }
 },
 "nbformat": 4,
 "nbformat_minor": 0
}
